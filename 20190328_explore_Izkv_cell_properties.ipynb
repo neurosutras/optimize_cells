{
 "cells": [
  {
   "cell_type": "code",
   "execution_count": 1,
   "metadata": {},
   "outputs": [],
   "source": [
    "%matplotlib notebook"
   ]
  },
  {
   "cell_type": "code",
   "execution_count": 2,
   "metadata": {},
   "outputs": [],
   "source": [
    "from simple_network_utils import *\n",
    "from cell_utils import *"
   ]
  },
  {
   "cell_type": "code",
   "execution_count": 3,
   "metadata": {},
   "outputs": [],
   "source": [
    "from dentate.biophysics_utils import *\n",
    "from scipy.optimize import minimize"
   ]
  },
  {
   "cell_type": "code",
   "execution_count": 4,
   "metadata": {},
   "outputs": [
    {
     "ename": "TypeError",
     "evalue": "__init__() got an unexpected keyword argument 'connection_syn_types'",
     "output_type": "error",
     "traceback": [
      "\u001b[0;31m---------------------------------------------------------------------------\u001b[0m",
      "\u001b[0;31mTypeError\u001b[0m                                 Traceback (most recent call last)",
      "\u001b[0;32m<ipython-input-4-6ff33c4b0311>\u001b[0m in \u001b[0;36m<module>\u001b[0;34m\u001b[0m\n\u001b[1;32m     12\u001b[0m                   \u001b[0mconnection_weights_mean\u001b[0m\u001b[0;34m=\u001b[0m\u001b[0mconnection_weights_mean\u001b[0m\u001b[0;34m,\u001b[0m\u001b[0;31m \u001b[0m\u001b[0;31m\\\u001b[0m\u001b[0;34m\u001b[0m\u001b[0;34m\u001b[0m\u001b[0m\n\u001b[1;32m     13\u001b[0m                   \u001b[0mconnection_weights_norm_sigma\u001b[0m\u001b[0;34m=\u001b[0m\u001b[0mconnection_weights_norm_sigma\u001b[0m\u001b[0;34m,\u001b[0m\u001b[0;31m \u001b[0m\u001b[0;31m\\\u001b[0m\u001b[0;34m\u001b[0m\u001b[0;34m\u001b[0m\u001b[0m\n\u001b[0;32m---> 14\u001b[0;31m                   connection_kinetics=connection_kinetics, verbose=2)\n\u001b[0m\u001b[1;32m     15\u001b[0m \u001b[0mprint\u001b[0m\u001b[0;34m(\u001b[0m\u001b[0mh\u001b[0m\u001b[0;34m.\u001b[0m\u001b[0mcelsius\u001b[0m\u001b[0;34m)\u001b[0m\u001b[0;34m\u001b[0m\u001b[0;34m\u001b[0m\u001b[0m\n\u001b[1;32m     16\u001b[0m \u001b[0msim\u001b[0m \u001b[0;34m=\u001b[0m \u001b[0mQuickSim\u001b[0m\u001b[0;34m(\u001b[0m\u001b[0mcvode\u001b[0m\u001b[0;34m=\u001b[0m\u001b[0;32mFalse\u001b[0m\u001b[0;34m)\u001b[0m\u001b[0;34m\u001b[0m\u001b[0;34m\u001b[0m\u001b[0m\n",
      "\u001b[0;31mTypeError\u001b[0m: __init__() got an unexpected keyword argument 'connection_syn_types'"
     ]
    }
   ],
   "source": [
    "pc = h.ParallelContext()\n",
    "pop_sizes = {'E': 1, 'I': 1, 'FF_E': 1, 'FF_I': 1}\n",
    "pop_gid_ranges = {'E': (0, 1), 'FF_E': (1, 2), 'FF_I': (2, 3), 'I': (3, 4)}\n",
    "pop_cell_types = {'E': 'IB_orig', 'FF_E': 'input', 'FF_I': 'input', 'I': 'FS_orig'}\n",
    "connection_syn_types = {'E': 'E', 'FF_E': 'E', 'FF_I': 'I', 'I': 'I'}\n",
    "prob_connection = {'E': {'FF_E': 1., 'FF_I': 1.}, 'I': {'FF_E': 1., 'FF_I': 1.}}\n",
    "connection_weights_mean = {'E': {'FF_E': 0.01, 'FF_I': 0.01}, 'I': {'FF_E': 0.01, 'FF_I': 0.01}}\n",
    "connection_weights_norm_sigma = {'E': {'FF_E': 0.1, 'FF_I': 0.1}, 'I': {'FF_E': 0.1, 'FF_I': 0.1}}\n",
    "connection_kinetics = {'E': {'E': 5., 'I': 10.}, 'I': {'E': 5., 'I': 10.}}\n",
    "network = SimpleNetwork(pc=pc, pop_sizes=pop_sizes, pop_gid_ranges=pop_gid_ranges, pop_cell_types=pop_cell_types, \\\n",
    "                  connection_syn_types=connection_syn_types, prob_connection=prob_connection, \\\n",
    "                  connection_weights_mean=connection_weights_mean, \\\n",
    "                  connection_weights_norm_sigma=connection_weights_norm_sigma, \\\n",
    "                  connection_kinetics=connection_kinetics, verbose=2)\n",
    "print(h.celsius)\n",
    "sim = QuickSim(cvode=False)\n",
    "print(h.celsius)"
   ]
  },
  {
   "cell_type": "code",
   "execution_count": null,
   "metadata": {},
   "outputs": [],
   "source": [
    "E_cell = network.cells['E'].itervalues().next()\n",
    "I_cell = network.cells['I'].itervalues().next()\n",
    "FF_E_cell = network.cells['FF_E'].itervalues().next()\n",
    "FF_I_cell = network.cells['FF_I'].itervalues().next()"
   ]
  },
  {
   "cell_type": "code",
   "execution_count": null,
   "metadata": {},
   "outputs": [],
   "source": [
    "equilibrate = 250.\n",
    "step_duration = 300."
   ]
  },
  {
   "cell_type": "code",
   "execution_count": null,
   "metadata": {},
   "outputs": [],
   "source": [
    "sim.append_rec(cell=E_cell, node=E_cell, name=E_cell.name)\n",
    "sim.append_rec(cell=I_cell, node=I_cell, name=I_cell.name)\n",
    "# sim.append_rec(cell=E_cell, node=E_cell, object=E_cell.syns['E'], param='_ref_i', name='E_E_syn_i')\n",
    "# sim.append_rec(cell=E_cell, node=E_cell, object=E_cell.syns['I'], param='_ref_i', name='E_I_syn_i')\n",
    "# sim.append_rec(cell=I_cell, node=I_cell, object=I_cell.syns['E'], param='_ref_i', name='I_E_syn_i')\n",
    "# sim.append_rec(cell=I_cell, node=I_cell, object=I_cell.syns['I'], param='_ref_i', name='I_I_syn_i')\n",
    "sim.append_rec(cell=E_cell, node=E_cell, object=E_cell.izh, param='_ref_u', name='E_izh_u')\n",
    "sim.append_rec(cell=I_cell, node=I_cell, object=I_cell.izh, param='_ref_u', name='I_izh_u')\n",
    "sim.append_rec(cell=E_cell, node=E_cell, object=E_cell.izh, param='_ref_i', name='E_izh_i')\n",
    "sim.append_rec(cell=I_cell, node=I_cell, object=I_cell.izh, param='_ref_i', name='I_izh_i')\n",
    "sim.append_stim(name='E_step', cell=E_cell, node=E_cell, amp=0., delay=equilibrate, dur=step_duration)\n",
    "sim.append_stim(name='I_step', cell=I_cell, node=I_cell, amp=0., delay=equilibrate, dur=step_duration)"
   ]
  },
  {
   "cell_type": "code",
   "execution_count": null,
   "metadata": {},
   "outputs": [],
   "source": [
    "step_amp = 0.3\n",
    "ISI = 10.\n",
    "num_spikes = 5\n",
    "spike_train = [equilibrate + ISI * i for i in xrange(num_spikes)]\n",
    "sim.tstop = equilibrate + max(step_duration, ISI * num_spikes) + 100.\n",
    "FF_E_cell.load_vecstim([])\n",
    "FF_I_cell.load_vecstim([])\n",
    "# FF_E_cell.load_vecstim(spike_train)\n",
    "# FF_I_cell.load_vecstim(spike_train)\n",
    "sim.modify_stim(name='E_step', amp=step_amp)\n",
    "sim.modify_stim(name='I_step', amp=step_amp)\n",
    "sim.run()\n",
    "sim.plot()"
   ]
  },
  {
   "cell_type": "code",
   "execution_count": null,
   "metadata": {
    "scrolled": false
   },
   "outputs": [],
   "source": [
    "I_cell.cell_type"
   ]
  },
  {
   "cell_type": "code",
   "execution_count": null,
   "metadata": {},
   "outputs": [],
   "source": [
    "I_cell.izh.d"
   ]
  },
  {
   "cell_type": "code",
   "execution_count": null,
   "metadata": {},
   "outputs": [],
   "source": [
    "h.celsius"
   ]
  },
  {
   "cell_type": "code",
   "execution_count": null,
   "metadata": {},
   "outputs": [],
   "source": []
  }
 ],
 "metadata": {
  "kernelspec": {
   "display_name": "Python 3",
   "language": "python",
   "name": "python3"
  },
  "language_info": {
   "codemirror_mode": {
    "name": "ipython",
    "version": 3
   },
   "file_extension": ".py",
   "mimetype": "text/x-python",
   "name": "python",
   "nbconvert_exporter": "python",
   "pygments_lexer": "ipython3",
   "version": "3.7.3"
  }
 },
 "nbformat": 4,
 "nbformat_minor": 2
}
