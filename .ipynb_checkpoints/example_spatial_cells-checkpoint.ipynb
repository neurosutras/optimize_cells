{
 "cells": [
  {
   "cell_type": "code",
   "execution_count": 33,
   "metadata": {},
   "outputs": [],
   "source": [
    "import numpy as np\n",
    "from random import random\n",
    "import matplotlib.pyplot as plt"
   ]
  },
  {
   "cell_type": "code",
   "execution_count": 88,
   "metadata": {},
   "outputs": [],
   "source": [
    "class Cell(object):\n",
    "    def __init__(self, x=None, y=None, ctype='A', scount=6, cellid=None):\n",
    "        self.x = random() * 2 - 1 if x == None else x\n",
    "        self.y = random() * 2 - 1 if y == None else y\n",
    "        #self.z = random() * 2 - 1 if z == None else z\n",
    "        self.type = ctype\n",
    "        self.scount = scount\n",
    "        self.id = cellid\n",
    "        self.connections = []\n",
    "        \n",
    "    def position(self, x, y):\n",
    "        self.x = x\n",
    "        self.y = y\n",
    "        #self.z = z\n",
    "        \n",
    "    def celltype(self, ctype):\n",
    "        self.type = ctype\n",
    "        \n",
    "    def syncount(self, count):\n",
    "        self.scount = count\n",
    "        \n",
    "    def cellid(self, cid):\n",
    "        self.id = cid"
   ]
  },
  {
   "cell_type": "code",
   "execution_count": 89,
   "metadata": {},
   "outputs": [],
   "source": [
    "Apop = 20\n",
    "Bpop = 30\n",
    "axon_width = {\n",
    "    'A': 5,\n",
    "    'B': 20\n",
    "}\n",
    "synaptic_counts = {\n",
    "    'A': {\n",
    "        'B': 12\n",
    "    },\n",
    "    'B': {\n",
    "        'A': 6\n",
    "    }\n",
    "}"
   ]
  },
  {
   "cell_type": "code",
   "execution_count": 90,
   "metadata": {},
   "outputs": [],
   "source": [
    "Acells = []\n",
    "Bcells = []\n",
    "running_id = 0\n",
    "for _ in range(Apop):\n",
    "    cell = Cell()\n",
    "    cell.celltype('A')\n",
    "    cell.cellid(running_id)\n",
    "    cell.syncount(synaptic_counts['B']['A'])\n",
    "    Acells.append(cell)\n",
    "    running_id += 1\n",
    "for _ in range(Bpop):\n",
    "    cell = Cell()\n",
    "    cell.celltype('B')\n",
    "    cell.cellid(running_id)\n",
    "    cell.syncount(synaptic_counts['A']['B'])\n",
    "    Bcells.append(cell)\n",
    "    running_id += 1"
   ]
  },
  {
   "cell_type": "code",
   "execution_count": 79,
   "metadata": {},
   "outputs": [
    {
     "name": "stdout",
     "output_type": "stream",
     "text": [
      "[0, 2, 2, 6, 7, 10, 11, 12, 14, 15, 16, 17]\n",
      "[8, 9, 11, 12, 12, 13, 15, 17, 17, 17, 18, 19]\n",
      "[2, 3, 4, 8, 9, 11, 12, 14, 15, 15, 17, 19]\n",
      "[1, 4, 6, 6, 8, 8, 13, 13, 14, 16, 18, 19]\n",
      "[0, 0, 0, 4, 4, 6, 6, 8, 9, 14, 18, 19]\n",
      "[1, 4, 4, 5, 9, 10, 10, 10, 12, 13, 14, 18]\n",
      "[0, 1, 1, 10, 10, 11, 11, 13, 15, 15, 16, 19]\n",
      "[2, 5, 6, 7, 8, 10, 11, 11, 12, 14, 15, 18]\n",
      "[2, 5, 7, 8, 10, 12, 13, 14, 15, 17, 18, 19]\n",
      "[0, 1, 4, 8, 9, 10, 12, 15, 15, 16, 17, 18]\n",
      "[0, 4, 6, 6, 8, 13, 13, 16, 17, 18, 18, 18]\n",
      "[1, 4, 5, 7, 8, 10, 13, 13, 16, 17, 18, 18]\n",
      "[0, 3, 3, 4, 5, 7, 7, 7, 9, 15, 18, 19]\n",
      "[0, 1, 2, 2, 4, 6, 9, 11, 12, 12, 13, 14]\n",
      "[0, 0, 2, 4, 5, 8, 10, 12, 14, 14, 15, 17]\n",
      "[2, 3, 4, 4, 7, 8, 10, 13, 13, 14, 14, 16]\n",
      "[0, 1, 2, 5, 6, 7, 8, 9, 10, 12, 14, 18]\n",
      "[3, 5, 5, 6, 8, 8, 8, 11, 12, 16, 18, 19]\n",
      "[3, 6, 7, 7, 9, 10, 11, 12, 13, 14, 14, 15]\n",
      "[1, 7, 8, 10, 10, 14, 15, 15, 15, 16, 16, 16]\n",
      "[2, 2, 4, 6, 6, 8, 8, 9, 13, 13, 13, 13]\n",
      "[1, 1, 4, 4, 6, 7, 10, 11, 12, 12, 14, 16]\n",
      "[0, 1, 1, 2, 2, 3, 6, 6, 7, 8, 14, 14]\n",
      "[1, 2, 7, 7, 7, 8, 11, 15, 15, 17, 17, 19]\n",
      "[2, 4, 6, 7, 8, 8, 9, 14, 16, 18, 18, 19]\n",
      "[1, 2, 3, 4, 5, 9, 9, 14, 15, 16, 17, 17]\n",
      "[4, 7, 8, 9, 10, 12, 13, 13, 16, 17, 18, 19]\n",
      "[3, 4, 5, 7, 8, 9, 9, 12, 12, 15, 16, 16]\n",
      "[1, 1, 6, 9, 10, 12, 14, 15, 15, 16, 17, 18]\n",
      "[2, 3, 3, 3, 6, 8, 12, 12, 14, 14, 16, 16]\n"
     ]
    }
   ],
   "source": [
    "ncdict = {}\n",
    "for cell_1 in Bcells:\n",
    "    presyn_probs = {}\n",
    "    sum_probs = 0\n",
    "    for cell_2 in Acells:\n",
    "#         if cell_1.type == cell_2.type:\n",
    "#             continue\n",
    "        dist = np.sqrt((cell_1.x - cell_2.x)**2 + (cell_1.y - cell_2.y)**2 + (cell_1.z - cell_2.z)**2)\n",
    "        sigma = axon_width[cell_2.type]\n",
    "        presyn_probs[cell_2.id] = 1./(np.sqrt(2 * np.pi * sigma**2)) * (np.e ** (-(dist ** 2) / (2 * sigma**2)))\n",
    "        sum_probs += presyn_probs[cell_2.id]\n",
    "    presyn_probs_items = np.array(presyn_probs.items())\n",
    "#     print(cell_2.type)\n",
    "#     print(cell_1.type)\n",
    "    synaptic_counts[cell_2.type][cell_1.type]\n",
    "    counts = np.random.multinomial(synaptic_counts[cell_2.type][cell_1.type], list(presyn_probs_items[:,1] / float(sum_probs)))\n",
    "    idxs = []\n",
    "    for i in range(len(counts)):\n",
    "        for _ in range(counts[i]):\n",
    "            idxs.append(i)\n",
    "    print(idxs)\n",
    "    presyn_neurons = list(presyn_probs_items[:,0])\n",
    "    for i in idxs:\n",
    "        presyn_gid = int(presyn_neurons[i])\n",
    "        #nc = self.pc.gid_connect(presyn_gid, target.synlist[presyn_key][i])\n",
    "        cell_1.connections.append(i)\n",
    "        if (presyn_gid, cell_1.id) in ncdict:\n",
    "            ncdict[(presyn_gid, cell_1.id)] += 1\n",
    "        else:\n",
    "            ncdict[(presyn_gid, cell_1.id)] = 1"
   ]
  },
  {
   "cell_type": "code",
   "execution_count": 82,
   "metadata": {},
   "outputs": [
    {
     "data": {
      "text/plain": [
       "[1, 4, 5, 7, 8, 10, 13, 13, 16, 17, 18, 18]"
      ]
     },
     "execution_count": 82,
     "metadata": {},
     "output_type": "execute_result"
    }
   ],
   "source": [
    "Bcells[11].connections"
   ]
  },
  {
   "cell_type": "code",
   "execution_count": 83,
   "metadata": {},
   "outputs": [
    {
     "data": {
      "text/plain": [
       "[0.04795907915743388,\n",
       " 0.04976675124473888,\n",
       " 0.04970593648908032,\n",
       " 0.05007306182195599,\n",
       " 0.052214546658841204,\n",
       " 0.04876211738989589,\n",
       " 0.04993169102910207,\n",
       " 0.0490348627672149,\n",
       " 0.05013552178512908,\n",
       " 0.05042217563131298,\n",
       " 0.0497124516053205,\n",
       " 0.04742383466708585,\n",
       " 0.05084999351145387,\n",
       " 0.052462693500831596,\n",
       " 0.05147024866358737,\n",
       " 0.05180702536881991,\n",
       " 0.0503743774920199,\n",
       " 0.05131799443272484,\n",
       " 0.047970434551249656,\n",
       " 0.04860520223220132]"
      ]
     },
     "execution_count": 83,
     "metadata": {},
     "output_type": "execute_result"
    }
   ],
   "source": [
    "list(presyn_probs_items[:,1] / float(sum_probs))"
   ]
  },
  {
   "cell_type": "code",
   "execution_count": 84,
   "metadata": {},
   "outputs": [
    {
     "data": {
      "text/plain": [
       "0.07242720475809322"
      ]
     },
     "execution_count": 84,
     "metadata": {},
     "output_type": "execute_result"
    }
   ],
   "source": [
    "presyn_probs_items[:,1][0]"
   ]
  },
  {
   "cell_type": "markdown",
   "metadata": {},
   "source": [
    "# Two Cells"
   ]
  },
  {
   "cell_type": "code",
   "execution_count": null,
   "metadata": {},
   "outputs": [],
   "source": [
    "cellA = Cell(-1, -1)"
   ]
  }
 ],
 "metadata": {
  "kernelspec": {
   "display_name": "Python 2",
   "language": "python",
   "name": "python2"
  },
  "language_info": {
   "codemirror_mode": {
    "name": "ipython",
    "version": 2
   },
   "file_extension": ".py",
   "mimetype": "text/x-python",
   "name": "python",
   "nbconvert_exporter": "python",
   "pygments_lexer": "ipython2",
   "version": "2.7.15"
  }
 },
 "nbformat": 4,
 "nbformat_minor": 2
}
